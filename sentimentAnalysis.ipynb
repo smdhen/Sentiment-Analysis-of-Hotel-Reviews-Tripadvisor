{
 "cells": [
  {
   "cell_type": "markdown",
   "id": "a1778d81",
   "metadata": {},
   "source": [
    "# 3.sentiment Analysis"
   ]
  },
  {
   "cell_type": "markdown",
   "id": "45a5383f",
   "metadata": {},
   "source": [
    "## 3.1-SentimentAnalyzer de NLTK:\n",
    "\n",
    "\n",
    "**Prmemirenet en va exploiter un outil pour analyses des sentiment en utilisent SentimentAnalyzer de package NLTK**"
   ]
  },
  {
   "cell_type": "code",
   "execution_count": 1,
   "id": "956b44d1",
   "metadata": {},
   "outputs": [],
   "source": [
    "import pandas as pd \n",
    "from matplotlib.pyplot import figure\n",
    "import numpy as np\n",
    "import matplotlib.pyplot as plt"
   ]
  },
  {
   "cell_type": "code",
   "execution_count": 63,
   "id": "7207fb97",
   "metadata": {},
   "outputs": [
    {
     "name": "stdout",
     "output_type": "stream",
     "text": [
      "Collecting vaderSentiment\n",
      "  Downloading vaderSentiment-3.3.2-py2.py3-none-any.whl (125 kB)\n",
      "\u001b[K     |████████████████████████████████| 125 kB 671 kB/s eta 0:00:01\n",
      "\u001b[?25hRequirement already satisfied: requests in /home/hennani/anaconda3/lib/python3.9/site-packages (from vaderSentiment) (2.27.1)\n",
      "Requirement already satisfied: idna<4,>=2.5 in /home/hennani/anaconda3/lib/python3.9/site-packages (from requests->vaderSentiment) (3.3)\n",
      "Requirement already satisfied: certifi>=2017.4.17 in /home/hennani/anaconda3/lib/python3.9/site-packages (from requests->vaderSentiment) (2021.10.8)\n",
      "Requirement already satisfied: charset-normalizer~=2.0.0 in /home/hennani/anaconda3/lib/python3.9/site-packages (from requests->vaderSentiment) (2.0.4)\n",
      "Requirement already satisfied: urllib3<1.27,>=1.21.1 in /home/hennani/anaconda3/lib/python3.9/site-packages (from requests->vaderSentiment) (1.26.9)\n",
      "Installing collected packages: vaderSentiment\n",
      "Successfully installed vaderSentiment-3.3.2\n"
     ]
    }
   ],
   "source": [
    "!pip install vaderSentiment"
   ]
  },
  {
   "cell_type": "code",
   "execution_count": 2,
   "id": "4ce5e0c2",
   "metadata": {},
   "outputs": [],
   "source": [
    "from vaderSentiment.vaderSentiment import SentimentIntensityAnalyzer"
   ]
  },
  {
   "cell_type": "code",
   "execution_count": 3,
   "id": "7973522f",
   "metadata": {},
   "outputs": [],
   "source": [
    "# creation d'un objet de SentimentIntensityAnalyzer\n",
    "sentiment_analyzer = SentimentIntensityAnalyzer()\n",
    "result = sentiment_analyzer.polarity_scores('I do not dislike horror movies')"
   ]
  },
  {
   "cell_type": "code",
   "execution_count": 66,
   "id": "ae359a40",
   "metadata": {},
   "outputs": [
    {
     "data": {
      "text/plain": [
       "{'neg': 0.0, 'neu': 0.436, 'pos': 0.564, 'compound': 0.6348}"
      ]
     },
     "execution_count": 66,
     "metadata": {},
     "output_type": "execute_result"
    }
   ],
   "source": [
    "result"
   ]
  },
  {
   "cell_type": "markdown",
   "id": "413c8aab",
   "metadata": {},
   "source": [
    "Le résultat est un dictionnaire qui contient des informations sur la polarité des sentiments dans une phrase ou un texte. Les trois premières valeurs du dictionnaire (neg, neu, pos) représentent les parties négative, neutre et positive du texte. La dernière valeur représente le score composé, qui est un score global normalisé de négativité ou de positivité, allant de -1 à +1. En fonction de la valeur du score composé, on peut considérer que les phrases ayant un score supérieur à 0 sont positives, tandis que celles ayant un score inférieur à 0 sont négatives."
   ]
  },
  {
   "cell_type": "markdown",
   "id": "ce2e87c4",
   "metadata": {},
   "source": [
    "#### Load  data "
   ]
  },
  {
   "cell_type": "code",
   "execution_count": 4,
   "id": "5ff9e1a0",
   "metadata": {},
   "outputs": [],
   "source": [
    "data=pd.read_json('data_final_vr.json')"
   ]
  },
  {
   "cell_type": "code",
   "execution_count": null,
   "id": "9d3f295e",
   "metadata": {},
   "outputs": [],
   "source": [
    "# data.head(2)"
   ]
  },
  {
   "cell_type": "markdown",
   "id": "38e5d886",
   "metadata": {},
   "source": [
    "Maintenant, nous allons essayer d'analyser les avis de chaque hôtel pour ensuite calculer la moyenne des scores des avis par hôtel. Ensuite, nous comparerons cette moyenne avec le classement de l'hôtel correspondant."
   ]
  },
  {
   "cell_type": "code",
   "execution_count": 6,
   "id": "ca559029",
   "metadata": {},
   "outputs": [],
   "source": [
    "df=pd.DataFrame()\n",
    "\n",
    "df['rating']=data['rating']\n"
   ]
  },
  {
   "cell_type": "code",
   "execution_count": 43,
   "id": "6c9db971",
   "metadata": {},
   "outputs": [],
   "source": [
    "m=len(data)\n",
    "hotels_scors=[]\n",
    "for i in range(m):\n",
    "    n=len(data['reviews'][i])\n",
    "    scors=[]\n",
    "    for j in range(n):\n",
    "        result = sentiment_analyzer.polarity_scores(data['reviews'][i][j])\n",
    "#         print(result['compound'])\n",
    "        scors.append(result['compound'])\n",
    "    scor=sum(scors)/len(scors)\n",
    "    hotels_scors.append(scor)"
   ]
  },
  {
   "cell_type": "markdown",
   "id": "7ab85cbc",
   "metadata": {},
   "source": [
    "# le scor donnees par SentimentIntensityAnalyzer pour chaque hotel"
   ]
  },
  {
   "cell_type": "code",
   "execution_count": 92,
   "id": "8c67d123",
   "metadata": {},
   "outputs": [
    {
     "data": {
      "image/png": "[encoded data removed]",
      "text/plain": [
       "<Figure size 1152x432 with 1 Axes>"
      ]
     },
     "metadata": {
      "needs_background": "light"
     },
     "output_type": "display_data"
    }
   ],
   "source": [
    "ind=[]\n",
    "fig = plt.figure(figsize=(16, 6))\n",
    "[ind.append(i) for i in range(len(hotels_scors)) ]\n",
    "ind\n",
    "plt.bar(ind,hotels_scors) \n",
    "plt.show()"
   ]
  },
  {
   "cell_type": "markdown",
   "id": "7993db15",
   "metadata": {},
   "source": [
    "# Rating de chaque hotel"
   ]
  },
  {
   "cell_type": "code",
   "execution_count": 93,
   "id": "a237930c",
   "metadata": {},
   "outputs": [
    {
     "data": {
      "image/png": "[encoded data removed]",
      "text/plain": [
       "<Figure size 1152x432 with 1 Axes>"
      ]
     },
     "metadata": {
      "needs_background": "light"
     },
     "output_type": "display_data"
    }
   ],
   "source": [
    "from matplotlib.pyplot import figure\n",
    "\n",
    "import numpy as np\n",
    "import matplotlib.pyplot as plt\n",
    "ind=[]\n",
    "fig = plt.figure(figsize=(16, 6))\n",
    "[ind.append(i) for i in range(len(hotels_scors)) ]\n",
    "\n",
    "plt.bar(ind,df['rating'])\n",
    "plt.show()"
   ]
  },
  {
   "cell_type": "markdown",
   "id": "b9395fb8",
   "metadata": {},
   "source": [
    "## 3.1-Sentiment Analysis with bert"
   ]
  },
  {
   "cell_type": "code",
   "execution_count": 6,
   "id": "a088c304",
   "metadata": {},
   "outputs": [
    {
     "name": "stderr",
     "output_type": "stream",
     "text": [
      "2024-02-27 15:45:50.378747: E external/local_xla/xla/stream_executor/cuda/cuda_dnn.cc:9261] Unable to register cuDNN factory: Attempting to register factory for plugin cuDNN when one has already been registered\n",
      "2024-02-27 15:45:50.378795: E external/local_xla/xla/stream_executor/cuda/cuda_fft.cc:607] Unable to register cuFFT factory: Attempting to register factory for plugin cuFFT when one has already been registered\n",
      "2024-02-27 15:45:50.380149: E external/local_xla/xla/stream_executor/cuda/cuda_blas.cc:1515] Unable to register cuBLAS factory: Attempting to register factory for plugin cuBLAS when one has already been registered\n",
      "2024-02-27 15:45:50.388634: I tensorflow/core/platform/cpu_feature_guard.cc:182] This TensorFlow binary is optimized to use available CPU instructions in performance-critical operations.\n",
      "To enable the following instructions: AVX2 FMA, in other operations, rebuild TensorFlow with the appropriate compiler flags.\n",
      "2024-02-27 15:45:51.493307: W tensorflow/compiler/tf2tensorrt/utils/py_utils.cc:38] TF-TRT Warning: Could not find TensorRT\n"
     ]
    }
   ],
   "source": [
    "from transformers import AutoTokenizer, AutoModelForSequenceClassification\n",
    "import torch\n",
    "import re"
   ]
  },
  {
   "cell_type": "code",
   "execution_count": null,
   "id": "cbf2b61e",
   "metadata": {},
   "outputs": [],
   "source": []
  },
  {
   "cell_type": "markdown",
   "id": "6858c467",
   "metadata": {},
   "source": [
    "création d'un tokenizer de mots.\n",
    "    \n",
    "Ensuite, nous allons utiliser un modèle BERT pré-entraîné pour l'analyse des sentiments. Ce modèle accepte des tokens en entrée et renvoie un score compris entre 1 et 5.\n"
   ]
  },
  {
   "cell_type": "code",
   "execution_count": 106,
   "id": "874b6193",
   "metadata": {},
   "outputs": [
    {
     "data": {
      "application/vnd.jupyter.widget-view+json": {
       "model_id": "09cb5eb316bc4d238fbf06528dcefa61",
       "version_major": 2,
       "version_minor": 0
      },
      "text/plain": [
       "Downloading:   0%|          | 0.00/669M [00:00<?, ?B/s]"
      ]
     },
     "metadata": {},
     "output_type": "display_data"
    }
   ],
   "source": [
    "tokenizer = AutoTokenizer.from_pretrained('nlptown/bert-base-multilingual-uncased-sentiment')\n",
    "\n",
    "model = AutoModelForSequenceClassification.from_pretrained('nlptown/bert-base-multilingual-uncased-sentiment')"
   ]
  },
  {
   "cell_type": "code",
   "execution_count": null,
   "id": "5d4103e4",
   "metadata": {},
   "outputs": [],
   "source": [
    "de meme manier on va fair la tokinazation de chaque review, puit on va passe le token ou model.\n",
    "et calculer la moyen des scors des reviews par hotel et en va la comparer avec le rating de la meme hotel "
   ]
  },
  {
   "cell_type": "code",
   "execution_count": 111,
   "id": "1e5147ad",
   "metadata": {},
   "outputs": [],
   "source": [
    "m=len(data) \n",
    "hotels_scors_model=[]\n",
    "for i in range(m):\n",
    "    n=len(data['reviews'][i])\n",
    "    scors=[]\n",
    "    for j in range(n):\n",
    "        tokens = tokenizer.encode(data['reviews'][i][j], return_tensors='pt')\n",
    "        result = model(tokens)\n",
    "        scors.append(int(torch.argmax(result.logits)))\n",
    "    scor=sum(scors)/len(scors)\n",
    "    hotels_scors_model.append(scor)"
   ]
  },
  {
   "cell_type": "markdown",
   "id": "ef833a52",
   "metadata": {},
   "source": [
    "# le scor donnees par Bert model  pour chaque hotel"
   ]
  },
  {
   "cell_type": "code",
   "execution_count": 114,
   "id": "0db47238",
   "metadata": {},
   "outputs": [
    {
     "data": {
      "image/png": "[encoded data removed]",
      "text/plain": [
       "<Figure size 1152x432 with 1 Axes>"
      ]
     },
     "metadata": {
      "needs_background": "light"
     },
     "output_type": "display_data"
    }
   ],
   "source": [
    "ind=[]\n",
    "fig = plt.figure(figsize=(16, 6))\n",
    "[ind.append(i) for i in range(len(hotels_scors_model)) ]\n",
    "plt.bar(ind,hotels_scors_model)\n",
    "plt.show()"
   ]
  },
  {
   "cell_type": "code",
   "execution_count": 7,
   "id": "5a65fd11",
   "metadata": {},
   "outputs": [],
   "source": [
    "AutoModelForSequenceClassification_=hotels_scors_model"
   ]
  },
  {
   "cell_type": "code",
   "execution_count": 4,
   "id": "1820b2cf",
   "metadata": {},
   "outputs": [],
   "source": [
    "import json\n",
    "\n",
    "with open(\"hotels_scors_model.json\", \"w\") as outfile:\n",
    "    json.dump(hotels_scors_model, outfile)\n",
    "# dat=pd.read_json('links.json')"
   ]
  },
  {
   "cell_type": "code",
   "execution_count": 1,
   "id": "6162303f",
   "metadata": {},
   "outputs": [],
   "source": [
    "# import torch\n",
    "# from transformers import DistilBertTokenizer, DistilBertForSequenceClassification\n",
    "\n",
    "# tokenizer = DistilBertTokenizer.from_pretrained(\"distilbert-base-uncased\")\n",
    "# model = DistilBertForSequenceClassification.from_pretrained(\"distilbert-base-uncased\")\n"
   ]
  },
  {
   "cell_type": "markdown",
   "id": "2145fd67",
   "metadata": {},
   "source": [
    "Some other analyses that will be performed for hotel sentiment reviews using Tableau based on this data and the columns that will be generated for top/bad words :\n",
    "\n",
    "    Sentiment Over Time: Plot the sentiment scores over time using line charts for each hotels\n",
    "\n",
    "    Top positive Keywords (Top neg Keywords as well) : Identify the most Scoring words \n",
    "    \n",
    "    \n",
    "    Sentiment by Location: Analyze the sentiment based on different locations or specific amenities using geographic maps or stacked bar charts. This can provide insights into how sentiment varies across different hotel locations or facilities.\n",
    "\n",
    "\n",
    "    Sentiment Impact on Ratings: Analyze the correlation between sentiment scores and overall ratings given by customers. This can help determine if there is a strong relationship between sentiment and the overall customer satisfaction expressed through ratings.\n"
   ]
  },
  {
   "cell_type": "code",
   "execution_count": 136,
   "id": "71119a75",
   "metadata": {},
   "outputs": [],
   "source": [
    "# find op/bad words "
   ]
  },
  {
   "cell_type": "code",
   "execution_count": 1,
   "id": "019976fd",
   "metadata": {},
   "outputs": [],
   "source": [
    "from gensim.utils import tokenize\n",
    "from gensim.parsing.porter import PorterStemmer\n",
    "import numpy as np\n",
    "m=len(data)\n",
    "txt=''\n",
    "for i in range(m):\n",
    "    n=len(data['reviews'][i])\n",
    "    scors=[]\n",
    "    var=np.array((data['reviews'][i]))#.decode(\"utf-8\"))\n",
    "    var=var.flatten() \n",
    "    v=''.join(var)\n",
    "    txt+=v\n",
    "    tokens=list(tokenize(v, deacc=False))\n",
    "# # tokens\n",
    "# v"
   ]
  },
  {
   "cell_type": "code",
   "execution_count": 239,
   "id": "338c7259",
   "metadata": {},
   "outputs": [],
   "source": [
    "tokens=list(tokenize(txt, deacc=False))\n",
    "porter_stemmer = PorterStemmer()\n",
    "# Get the stemmed_tokens\n",
    "\n",
    "tokens_stemmer = [porter_stemmer.stem(word) for word in tokens]"
   ]
  },
  {
   "cell_type": "code",
   "execution_count": 242,
   "id": "1c650ae3",
   "metadata": {},
   "outputs": [
    {
     "data": {
      "text/plain": [
       "2411838"
      ]
     },
     "execution_count": 242,
     "metadata": {},
     "output_type": "execute_result"
    }
   ],
   "source": [
    "len(tokens_stemmer)"
   ]
  },
  {
   "cell_type": "code",
   "execution_count": 243,
   "id": "ed1953e8",
   "metadata": {},
   "outputs": [],
   "source": [
    "tab=[]\n",
    "for i in tokens_stemmer:\n",
    "    result = sentiment_analyzer.polarity_scores(i)\n",
    "    tab.append([i,result['neg'],result['pos'],result['compound']])"
   ]
  },
  {
   "cell_type": "code",
   "execution_count": 244,
   "id": "504352fd",
   "metadata": {},
   "outputs": [],
   "source": [
    "df11=pd.DataFrame(tab)"
   ]
  },
  {
   "cell_type": "code",
   "execution_count": 1,
   "id": "cb5d2396",
   "metadata": {},
   "outputs": [],
   "source": [
    "# df11.dropna()"
   ]
  },
  {
   "cell_type": "code",
   "execution_count": 274,
   "id": "7fe58a36",
   "metadata": {},
   "outputs": [],
   "source": [
    "df11.drop(df11.index[(df11[3] == 0)],axis=0,inplace=True)"
   ]
  },
  {
   "cell_type": "code",
   "execution_count": 281,
   "id": "ef20ae74",
   "metadata": {},
   "outputs": [],
   "source": [
    "df11.to_csv('pos_and_neg_wrd.csv')"
   ]
  },
  {
   "cell_type": "code",
   "execution_count": 292,
   "id": "b8243a1f",
   "metadata": {},
   "outputs": [],
   "source": [
    "df12=pd.read_csv('pos_and_neg_wrd.csv')"
   ]
  },
  {
   "cell_type": "code",
   "execution_count": 294,
   "id": "8c4cb95a",
   "metadata": {},
   "outputs": [],
   "source": [
    "df12=df12.drop(labels=\"Unnamed: 0\", axis=1)"
   ]
  },
  {
   "cell_type": "code",
   "execution_count": 308,
   "id": "96fdf522",
   "metadata": {},
   "outputs": [
    {
     "data": {
      "text/html": [
       "<div>\n",
       "<style scoped>\n",
       "    .dataframe tbody tr th:only-of-type {\n",
       "        vertical-align: middle;\n",
       "    }\n",
       "\n",
       "    .dataframe tbody tr th {\n",
       "        vertical-align: top;\n",
       "    }\n",
       "\n",
       "    .dataframe thead th {\n",
       "        text-align: right;\n",
       "    }\n",
       "</style>\n",
       "<table border=\"1\" class=\"dataframe\">\n",
       "  <thead>\n",
       "    <tr style=\"text-align: right;\">\n",
       "      <th></th>\n",
       "      <th>0</th>\n",
       "      <th>1</th>\n",
       "      <th>2</th>\n",
       "      <th>3</th>\n",
       "    </tr>\n",
       "  </thead>\n",
       "  <tbody>\n",
       "    <tr>\n",
       "      <th>0</th>\n",
       "      <td>great</td>\n",
       "      <td>0.0</td>\n",
       "      <td>1.0</td>\n",
       "      <td>0.6249</td>\n",
       "    </tr>\n",
       "    <tr>\n",
       "      <th>1</th>\n",
       "      <td>super</td>\n",
       "      <td>0.0</td>\n",
       "      <td>1.0</td>\n",
       "      <td>0.5994</td>\n",
       "    </tr>\n",
       "    <tr>\n",
       "      <th>2</th>\n",
       "      <td>help</td>\n",
       "      <td>0.0</td>\n",
       "      <td>1.0</td>\n",
       "      <td>0.4019</td>\n",
       "    </tr>\n",
       "    <tr>\n",
       "      <th>3</th>\n",
       "      <td>thank</td>\n",
       "      <td>0.0</td>\n",
       "      <td>1.0</td>\n",
       "      <td>0.3612</td>\n",
       "    </tr>\n",
       "    <tr>\n",
       "      <th>4</th>\n",
       "      <td>perfect</td>\n",
       "      <td>0.0</td>\n",
       "      <td>1.0</td>\n",
       "      <td>0.5719</td>\n",
       "    </tr>\n",
       "    <tr>\n",
       "      <th>...</th>\n",
       "      <td>...</td>\n",
       "      <td>...</td>\n",
       "      <td>...</td>\n",
       "      <td>...</td>\n",
       "    </tr>\n",
       "    <tr>\n",
       "      <th>162238</th>\n",
       "      <td>nice</td>\n",
       "      <td>0.0</td>\n",
       "      <td>1.0</td>\n",
       "      <td>0.4215</td>\n",
       "    </tr>\n",
       "    <tr>\n",
       "      <th>162239</th>\n",
       "      <td>excel</td>\n",
       "      <td>0.0</td>\n",
       "      <td>1.0</td>\n",
       "      <td>0.4588</td>\n",
       "    </tr>\n",
       "    <tr>\n",
       "      <th>162240</th>\n",
       "      <td>great</td>\n",
       "      <td>0.0</td>\n",
       "      <td>1.0</td>\n",
       "      <td>0.6249</td>\n",
       "    </tr>\n",
       "    <tr>\n",
       "      <th>162241</th>\n",
       "      <td>clean</td>\n",
       "      <td>0.0</td>\n",
       "      <td>1.0</td>\n",
       "      <td>0.4019</td>\n",
       "    </tr>\n",
       "    <tr>\n",
       "      <th>162242</th>\n",
       "      <td>disappoint</td>\n",
       "      <td>1.0</td>\n",
       "      <td>0.0</td>\n",
       "      <td>-0.4019</td>\n",
       "    </tr>\n",
       "  </tbody>\n",
       "</table>\n",
       "<p>162243 rows × 4 columns</p>\n",
       "</div>"
      ],
      "text/plain": [
       "                 0    1    2       3\n",
       "0            great  0.0  1.0  0.6249\n",
       "1            super  0.0  1.0  0.5994\n",
       "2             help  0.0  1.0  0.4019\n",
       "3            thank  0.0  1.0  0.3612\n",
       "4          perfect  0.0  1.0  0.5719\n",
       "...            ...  ...  ...     ...\n",
       "162238        nice  0.0  1.0  0.4215\n",
       "162239       excel  0.0  1.0  0.4588\n",
       "162240       great  0.0  1.0  0.6249\n",
       "162241       clean  0.0  1.0  0.4019\n",
       "162242  disappoint  1.0  0.0 -0.4019\n",
       "\n",
       "[162243 rows x 4 columns]"
      ]
     },
     "execution_count": 308,
     "metadata": {},
     "output_type": "execute_result"
    }
   ],
   "source": [
    "df12"
   ]
  },
  {
   "cell_type": "code",
   "execution_count": 309,
   "id": "67044136",
   "metadata": {},
   "outputs": [
    {
     "data": {
      "text/plain": [
       "count     162243\n",
       "unique       712\n",
       "top         help\n",
       "freq        9765\n",
       "Name: 0, dtype: object"
      ]
     },
     "execution_count": 309,
     "metadata": {},
     "output_type": "execute_result"
    }
   ],
   "source": [
    "df12['0'].describe()"
   ]
  },
  {
   "cell_type": "code",
   "execution_count": 312,
   "id": "e23d66b3",
   "metadata": {},
   "outputs": [],
   "source": [
    "dff=pd.DataFrame()\n",
    "dff=df12.drop_duplicates(subset=['0']) "
   ]
  },
  {
   "cell_type": "code",
   "execution_count": 333,
   "id": "2f5ab232",
   "metadata": {},
   "outputs": [
    {
     "data": {
      "text/html": [
       "<div>\n",
       "<style scoped>\n",
       "    .dataframe tbody tr th:only-of-type {\n",
       "        vertical-align: middle;\n",
       "    }\n",
       "\n",
       "    .dataframe tbody tr th {\n",
       "        vertical-align: top;\n",
       "    }\n",
       "\n",
       "    .dataframe thead th {\n",
       "        text-align: right;\n",
       "    }\n",
       "</style>\n",
       "<table border=\"1\" class=\"dataframe\">\n",
       "  <thead>\n",
       "    <tr style=\"text-align: right;\">\n",
       "      <th></th>\n",
       "      <th>0</th>\n",
       "      <th>1</th>\n",
       "      <th>2</th>\n",
       "      <th>3</th>\n",
       "    </tr>\n",
       "  </thead>\n",
       "  <tbody>\n",
       "    <tr>\n",
       "      <th>0</th>\n",
       "      <td>great</td>\n",
       "      <td>0.0</td>\n",
       "      <td>1.0</td>\n",
       "      <td>0.6249</td>\n",
       "    </tr>\n",
       "    <tr>\n",
       "      <th>1</th>\n",
       "      <td>super</td>\n",
       "      <td>0.0</td>\n",
       "      <td>1.0</td>\n",
       "      <td>0.5994</td>\n",
       "    </tr>\n",
       "    <tr>\n",
       "      <th>2</th>\n",
       "      <td>help</td>\n",
       "      <td>0.0</td>\n",
       "      <td>1.0</td>\n",
       "      <td>0.4019</td>\n",
       "    </tr>\n",
       "    <tr>\n",
       "      <th>3</th>\n",
       "      <td>thank</td>\n",
       "      <td>0.0</td>\n",
       "      <td>1.0</td>\n",
       "      <td>0.3612</td>\n",
       "    </tr>\n",
       "    <tr>\n",
       "      <th>4</th>\n",
       "      <td>perfect</td>\n",
       "      <td>0.0</td>\n",
       "      <td>1.0</td>\n",
       "      <td>0.5719</td>\n",
       "    </tr>\n",
       "    <tr>\n",
       "      <th>...</th>\n",
       "      <td>...</td>\n",
       "      <td>...</td>\n",
       "      <td>...</td>\n",
       "      <td>...</td>\n",
       "    </tr>\n",
       "    <tr>\n",
       "      <th>161086</th>\n",
       "      <td>hardier</td>\n",
       "      <td>1.0</td>\n",
       "      <td>0.0</td>\n",
       "      <td>-0.1531</td>\n",
       "    </tr>\n",
       "    <tr>\n",
       "      <th>161154</th>\n",
       "      <td>careless</td>\n",
       "      <td>1.0</td>\n",
       "      <td>0.0</td>\n",
       "      <td>-0.3612</td>\n",
       "    </tr>\n",
       "    <tr>\n",
       "      <th>161207</th>\n",
       "      <td>lowland</td>\n",
       "      <td>1.0</td>\n",
       "      <td>0.0</td>\n",
       "      <td>-0.0258</td>\n",
       "    </tr>\n",
       "    <tr>\n",
       "      <th>161694</th>\n",
       "      <td>feudal</td>\n",
       "      <td>1.0</td>\n",
       "      <td>0.0</td>\n",
       "      <td>-0.2023</td>\n",
       "    </tr>\n",
       "    <tr>\n",
       "      <th>161695</th>\n",
       "      <td>stronghold</td>\n",
       "      <td>0.0</td>\n",
       "      <td>1.0</td>\n",
       "      <td>0.1280</td>\n",
       "    </tr>\n",
       "  </tbody>\n",
       "</table>\n",
       "<p>712 rows × 4 columns</p>\n",
       "</div>"
      ],
      "text/plain": [
       "                 0    1    2       3\n",
       "0            great  0.0  1.0  0.6249\n",
       "1            super  0.0  1.0  0.5994\n",
       "2             help  0.0  1.0  0.4019\n",
       "3            thank  0.0  1.0  0.3612\n",
       "4          perfect  0.0  1.0  0.5719\n",
       "...            ...  ...  ...     ...\n",
       "161086     hardier  1.0  0.0 -0.1531\n",
       "161154    careless  1.0  0.0 -0.3612\n",
       "161207     lowland  1.0  0.0 -0.0258\n",
       "161694      feudal  1.0  0.0 -0.2023\n",
       "161695  stronghold  0.0  1.0  0.1280\n",
       "\n",
       "[712 rows x 4 columns]"
      ]
     },
     "execution_count": 333,
     "metadata": {},
     "output_type": "execute_result"
    }
   ],
   "source": [
    "dff"
   ]
  },
  {
   "cell_type": "code",
   "execution_count": 314,
   "id": "e4aa5448",
   "metadata": {},
   "outputs": [
    {
     "data": {
      "text/plain": [
       "count       712\n",
       "unique      712\n",
       "top       great\n",
       "freq          1\n",
       "Name: 0, dtype: object"
      ]
     },
     "execution_count": 314,
     "metadata": {},
     "output_type": "execute_result"
    }
   ],
   "source": [
    "dff['0'].describe()"
   ]
  },
  {
   "cell_type": "code",
   "execution_count": 334,
   "id": "cc6b116d",
   "metadata": {},
   "outputs": [],
   "source": [
    "dff.to_csv('Top_word.csv')"
   ]
  },
  {
   "cell_type": "code",
   "execution_count": 335,
   "id": "3965afab",
   "metadata": {},
   "outputs": [],
   "source": [
    "dff=pd.read_csv('Top_word.csv')"
   ]
  },
  {
   "cell_type": "code",
   "execution_count": 337,
   "id": "9ebd9057",
   "metadata": {},
   "outputs": [
    {
     "data": {
      "text/html": [
       "<div>\n",
       "<style scoped>\n",
       "    .dataframe tbody tr th:only-of-type {\n",
       "        vertical-align: middle;\n",
       "    }\n",
       "\n",
       "    .dataframe tbody tr th {\n",
       "        vertical-align: top;\n",
       "    }\n",
       "\n",
       "    .dataframe thead th {\n",
       "        text-align: right;\n",
       "    }\n",
       "</style>\n",
       "<table border=\"1\" class=\"dataframe\">\n",
       "  <thead>\n",
       "    <tr style=\"text-align: right;\">\n",
       "      <th></th>\n",
       "      <th>0</th>\n",
       "      <th>1</th>\n",
       "      <th>2</th>\n",
       "      <th>3</th>\n",
       "    </tr>\n",
       "  </thead>\n",
       "  <tbody>\n",
       "    <tr>\n",
       "      <th>0</th>\n",
       "      <td>great</td>\n",
       "      <td>0.0</td>\n",
       "      <td>1.0</td>\n",
       "      <td>0.6249</td>\n",
       "    </tr>\n",
       "    <tr>\n",
       "      <th>1</th>\n",
       "      <td>super</td>\n",
       "      <td>0.0</td>\n",
       "      <td>1.0</td>\n",
       "      <td>0.5994</td>\n",
       "    </tr>\n",
       "    <tr>\n",
       "      <th>2</th>\n",
       "      <td>help</td>\n",
       "      <td>0.0</td>\n",
       "      <td>1.0</td>\n",
       "      <td>0.4019</td>\n",
       "    </tr>\n",
       "    <tr>\n",
       "      <th>3</th>\n",
       "      <td>thank</td>\n",
       "      <td>0.0</td>\n",
       "      <td>1.0</td>\n",
       "      <td>0.3612</td>\n",
       "    </tr>\n",
       "    <tr>\n",
       "      <th>4</th>\n",
       "      <td>perfect</td>\n",
       "      <td>0.0</td>\n",
       "      <td>1.0</td>\n",
       "      <td>0.5719</td>\n",
       "    </tr>\n",
       "    <tr>\n",
       "      <th>...</th>\n",
       "      <td>...</td>\n",
       "      <td>...</td>\n",
       "      <td>...</td>\n",
       "      <td>...</td>\n",
       "    </tr>\n",
       "    <tr>\n",
       "      <th>707</th>\n",
       "      <td>hardier</td>\n",
       "      <td>1.0</td>\n",
       "      <td>0.0</td>\n",
       "      <td>-0.1531</td>\n",
       "    </tr>\n",
       "    <tr>\n",
       "      <th>708</th>\n",
       "      <td>careless</td>\n",
       "      <td>1.0</td>\n",
       "      <td>0.0</td>\n",
       "      <td>-0.3612</td>\n",
       "    </tr>\n",
       "    <tr>\n",
       "      <th>709</th>\n",
       "      <td>lowland</td>\n",
       "      <td>1.0</td>\n",
       "      <td>0.0</td>\n",
       "      <td>-0.0258</td>\n",
       "    </tr>\n",
       "    <tr>\n",
       "      <th>710</th>\n",
       "      <td>feudal</td>\n",
       "      <td>1.0</td>\n",
       "      <td>0.0</td>\n",
       "      <td>-0.2023</td>\n",
       "    </tr>\n",
       "    <tr>\n",
       "      <th>711</th>\n",
       "      <td>stronghold</td>\n",
       "      <td>0.0</td>\n",
       "      <td>1.0</td>\n",
       "      <td>0.1280</td>\n",
       "    </tr>\n",
       "  </tbody>\n",
       "</table>\n",
       "<p>712 rows × 4 columns</p>\n",
       "</div>"
      ],
      "text/plain": [
       "              0    1    2       3\n",
       "0         great  0.0  1.0  0.6249\n",
       "1         super  0.0  1.0  0.5994\n",
       "2          help  0.0  1.0  0.4019\n",
       "3         thank  0.0  1.0  0.3612\n",
       "4       perfect  0.0  1.0  0.5719\n",
       "..          ...  ...  ...     ...\n",
       "707     hardier  1.0  0.0 -0.1531\n",
       "708    careless  1.0  0.0 -0.3612\n",
       "709     lowland  1.0  0.0 -0.0258\n",
       "710      feudal  1.0  0.0 -0.2023\n",
       "711  stronghold  0.0  1.0  0.1280\n",
       "\n",
       "[712 rows x 4 columns]"
      ]
     },
     "execution_count": 337,
     "metadata": {},
     "output_type": "execute_result"
    }
   ],
   "source": [
    "dff.drop(labels=\"Unnamed: 0\", axis=1)"
   ]
  },
  {
   "cell_type": "code",
   "execution_count": null,
   "id": "c0963541",
   "metadata": {},
   "outputs": [],
   "source": [
    "# le score est sur l'echele de linterval  [-1, 1]"
   ]
  },
  {
   "cell_type": "code",
   "execution_count": 354,
   "id": "80c119b1",
   "metadata": {},
   "outputs": [],
   "source": [
    "L_1=[]\n",
    "L_1=list(dff['3'])\n",
    "LL_1[:]=L_1[:]"
   ]
  },
  {
   "cell_type": "code",
   "execution_count": 356,
   "id": "846a36a9",
   "metadata": {},
   "outputs": [],
   "source": [
    "top_L_1=[]\n",
    "\n",
    "for i, j in enumerate(L_1):\n",
    "    \n",
    "    top_L_1.append([min(LL_1),LL_1.index(min(LL_1))+i])\n",
    "    \n",
    "    aa.pop(aa.index(min(LL_1)))"
   ]
  },
  {
   "cell_type": "code",
   "execution_count": 357,
   "id": "eb7ebfcb",
   "metadata": {},
   "outputs": [],
   "source": [
    "(top_L_1)\n",
    "\n",
    "t__p=top_L_1[:100]\n",
    "\n",
    "tab1=[]\n",
    "\n",
    "for i in range(100):\n",
    "    \n",
    "    tab1.append(t__p[i][0])"
   ]
  },
  {
   "cell_type": "code",
   "execution_count": 363,
   "id": "62db2371",
   "metadata": {},
   "outputs": [],
   "source": [
    "L_2=[]\n",
    "\n",
    "for i in range(100):\n",
    "    \n",
    "    k=tp[i][1]\n",
    "    \n",
    "    L_2.append(dff['0'][k-1])"
   ]
  },
  {
   "cell_type": "code",
   "execution_count": null,
   "id": "2492ef0f",
   "metadata": {},
   "outputs": [],
   "source": []
  },
  {
   "cell_type": "code",
   "execution_count": 360,
   "id": "89093b1b",
   "metadata": {},
   "outputs": [],
   "source": [
    "df1=pd.DataFrame(tab1)\n",
    "\n",
    "d=pd.DataFrame()\n",
    "\n",
    "d['scors_of_word']=df1\n",
    "\n",
    "scr=pd.DataFrame(L_2)\n",
    "\n",
    "d['key_pos_word']=scr"
   ]
  },
  {
   "cell_type": "code",
   "execution_count": 361,
   "id": "3392d713",
   "metadata": {},
   "outputs": [
    {
     "data": {
      "text/html": [
       "<div>\n",
       "<style scoped>\n",
       "    .dataframe tbody tr th:only-of-type {\n",
       "        vertical-align: middle;\n",
       "    }\n",
       "\n",
       "    .dataframe tbody tr th {\n",
       "        vertical-align: top;\n",
       "    }\n",
       "\n",
       "    .dataframe thead th {\n",
       "        text-align: right;\n",
       "    }\n",
       "</style>\n",
       "<table border=\"1\" class=\"dataframe\">\n",
       "  <thead>\n",
       "    <tr style=\"text-align: right;\">\n",
       "      <th></th>\n",
       "      <th>scors_of_word</th>\n",
       "      <th>key_pos_word</th>\n",
       "    </tr>\n",
       "  </thead>\n",
       "  <tbody>\n",
       "    <tr>\n",
       "      <th>0</th>\n",
       "      <td>-0.6908</td>\n",
       "      <td>vip</td>\n",
       "    </tr>\n",
       "    <tr>\n",
       "      <th>1</th>\n",
       "      <td>-0.6808</td>\n",
       "      <td>luckier</td>\n",
       "    </tr>\n",
       "    <tr>\n",
       "      <th>2</th>\n",
       "      <td>-0.6597</td>\n",
       "      <td>cancer</td>\n",
       "    </tr>\n",
       "    <tr>\n",
       "      <th>3</th>\n",
       "      <td>-0.6597</td>\n",
       "      <td>inhibit</td>\n",
       "    </tr>\n",
       "    <tr>\n",
       "      <th>4</th>\n",
       "      <td>-0.6486</td>\n",
       "      <td>sceptic</td>\n",
       "    </tr>\n",
       "    <tr>\n",
       "      <th>...</th>\n",
       "      <td>...</td>\n",
       "      <td>...</td>\n",
       "    </tr>\n",
       "    <tr>\n",
       "      <th>95</th>\n",
       "      <td>-0.4767</td>\n",
       "      <td>vision</td>\n",
       "    </tr>\n",
       "    <tr>\n",
       "      <th>96</th>\n",
       "      <td>-0.4767</td>\n",
       "      <td>beaut</td>\n",
       "    </tr>\n",
       "    <tr>\n",
       "      <th>97</th>\n",
       "      <td>-0.4767</td>\n",
       "      <td>cock</td>\n",
       "    </tr>\n",
       "    <tr>\n",
       "      <th>98</th>\n",
       "      <td>-0.4767</td>\n",
       "      <td>relentless</td>\n",
       "    </tr>\n",
       "    <tr>\n",
       "      <th>99</th>\n",
       "      <td>-0.4767</td>\n",
       "      <td>tia</td>\n",
       "    </tr>\n",
       "  </tbody>\n",
       "</table>\n",
       "<p>100 rows × 2 columns</p>\n",
       "</div>"
      ],
      "text/plain": [
       "    scors_of_word key_pos_word\n",
       "0         -0.6908          vip\n",
       "1         -0.6808      luckier\n",
       "2         -0.6597       cancer\n",
       "3         -0.6597      inhibit\n",
       "4         -0.6486      sceptic\n",
       "..            ...          ...\n",
       "95        -0.4767       vision\n",
       "96        -0.4767        beaut\n",
       "97        -0.4767         cock\n",
       "98        -0.4767   relentless\n",
       "99        -0.4767          tia\n",
       "\n",
       "[100 rows x 2 columns]"
      ]
     },
     "execution_count": 361,
     "metadata": {},
     "output_type": "execute_result"
    }
   ],
   "source": [
    "d"
   ]
  },
  {
   "cell_type": "code",
   "execution_count": 362,
   "id": "a6e1698d",
   "metadata": {},
   "outputs": [],
   "source": [
    "d.to_csv('Top_neg_wrd.csv')"
   ]
  },
  {
   "cell_type": "code",
   "execution_count": 95,
   "id": "428acfd7",
   "metadata": {},
   "outputs": [
    {
     "data": {
      "text/plain": [
       "count    122.000000\n",
       "mean       4.733607\n",
       "std        0.402392\n",
       "min        3.000000\n",
       "25%        4.500000\n",
       "50%        5.000000\n",
       "75%        5.000000\n",
       "max        5.000000\n",
       "Name: rating, dtype: float64"
      ]
     },
     "execution_count": 95,
     "metadata": {},
     "output_type": "execute_result"
    }
   ],
   "source": [
    "df['rating'].describe()"
   ]
  },
  {
   "cell_type": "code",
   "execution_count": null,
   "id": "5560ea33",
   "metadata": {},
   "outputs": [],
   "source": []
  },
  {
   "cell_type": "code",
   "execution_count": null,
   "id": "94dc0487",
   "metadata": {},
   "outputs": [],
   "source": []
  }
 ],
 "metadata": {
  "kernelspec": {
   "display_name": "Python 3 (ipykernel)",
   "language": "python",
   "name": "python3"
  },
  "language_info": {
   "codemirror_mode": {
    "name": "ipython",
    "version": 3
   },
   "file_extension": ".py",
   "mimetype": "text/x-python",
   "name": "python",
   "nbconvert_exporter": "python",
   "pygments_lexer": "ipython3",
   "version": "3.9.12"
  }
 },
 "nbformat": 4,
 "nbformat_minor": 5
}
