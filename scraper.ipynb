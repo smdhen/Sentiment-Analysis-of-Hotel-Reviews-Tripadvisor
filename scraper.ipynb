{
 "cells": [
  {
   "cell_type": "markdown",
   "id": "1f078701",
   "metadata": {},
   "source": [
    "# <center> WEB SCRAPING & and sentiment analysis WITH python </center>"
   ]
  },
  {
   "cell_type": "markdown",
   "id": "cd39bb06",
   "metadata": {},
   "source": [
    "# 1-SCRAPING"
   ]
  },
  {
   "cell_type": "code",
   "execution_count": 1,
   "id": "60604f7c",
   "metadata": {},
   "outputs": [],
   "source": [
    "from selenium import webdriver\n",
    "from selenium.webdriver.common.keys import Keys\n",
    "from selenium.webdriver.common.by import By\n",
    "import time\n",
    "# from selenium.webdriver.support.ui import WebDriverWait\n",
    "# from selenium.webdriver.support import expected_conditions as EC"
   ]
  },
  {
   "cell_type": "code",
   "execution_count": 3,
   "id": "7da1042d",
   "metadata": {},
   "outputs": [],
   "source": [
    "from selenium.webdriver.chrome.options import Options"
   ]
  },
  {
   "cell_type": "markdown",
   "id": "a1142354",
   "metadata": {},
   "source": [
    "### On se connecter a une instance de chrome (chromedriver)   "
   ]
  },
  {
   "cell_type": "code",
   "execution_count": 5,
   "id": "d5e8f337",
   "metadata": {},
   "outputs": [],
   "source": [
    "# options = Options()\n",
    "# # driver = webdriver.Chrome(options=options)\n",
    "# driver = webdriver.Chrome(options=options,executable_path=\"/home/hennani/Downloads/chromedriver_linux64/chromedriver\")"
   ]
  },
  {
   "cell_type": "code",
   "execution_count": 197,
   "id": "bf9172cd",
   "metadata": {},
   "outputs": [
    {
     "name": "stderr",
     "output_type": "stream",
     "text": [
      "/tmp/ipykernel_33407/1290459061.py:1: DeprecationWarning: executable_path has been deprecated, please pass in a Service object\n",
      "  driver = webdriver.Chrome(\"/home/hennani/Downloads/chromedriver_linux64/chromedriver\")\n"
     ]
    }
   ],
   "source": [
    "driver = webdriver.Chrome(\"/home/hennani/Downloads/chromedriver_linux64/chromedriver\")"
   ]
  },
  {
   "cell_type": "markdown",
   "id": "2835814a",
   "metadata": {},
   "source": [
    "La methode get de driver  pour accéder ou site web 'https://www.tripadvisor.com/'"
   ]
  },
  {
   "cell_type": "code",
   "execution_count": 4,
   "id": "be4c4ea2",
   "metadata": {},
   "outputs": [],
   "source": [
    "driver.get(\"https://www.tripadvisor.com/\")"
   ]
  },
  {
   "cell_type": "code",
   "execution_count": 127,
   "id": "88aa5445",
   "metadata": {},
   "outputs": [
    {
     "name": "stdout",
     "output_type": "stream",
     "text": [
      "https://www.tripadvisor.com/\n"
     ]
    }
   ],
   "source": [
    "print(driver.current_url)"
   ]
  },
  {
   "cell_type": "markdown",
   "id": "bab25878",
   "metadata": {},
   "source": [
    "L'envoi d'une requete de rerecherch ('Marrakech'),pour cela on doit tout d'abors localiser la bare de rcherch dons la page par son PATH\n",
    "\n",
    "(//*[@id=\"lithium-root\"]/main/div[3]/div/div/div[2]/form/input[1]) "
   ]
  },
  {
   "cell_type": "code",
   "execution_count": 45,
   "id": "2938cc9f",
   "metadata": {},
   "outputs": [],
   "source": [
    "time.sleep(3)# pour s'assure que la page et completenmet telechrgee \n",
    "xpath='//*[@id=\"lithium-root\"]/main/div[3]/div/div/div[2]/form'\n",
    "inputElement = driver.find_element(by=By.XPATH,value=xpath)"
   ]
  },
  {
   "cell_type": "markdown",
   "id": "36e0a717",
   "metadata": {},
   "source": [
    "La methde send_keys() pour passe \"Marrackech\" as string "
   ]
  },
  {
   "cell_type": "code",
   "execution_count": 181,
   "id": "5a3ecff0",
   "metadata": {},
   "outputs": [],
   "source": [
    "inputElement.send_keys('Marrakech')\n",
    "time.sleep(3)\n",
    "inputElement.send_keys(Keys.RETURN)"
   ]
  },
  {
   "cell_type": "code",
   "execution_count": 123,
   "id": "abcdbfb1",
   "metadata": {},
   "outputs": [
    {
     "name": "stdout",
     "output_type": "stream",
     "text": [
      "https://www.tripadvisor.com/Attractions-g293734-Activities-Marrakech_Marrakech_Safi.html\n"
     ]
    }
   ],
   "source": [
    "print(driver.current_url)"
   ]
  },
  {
   "cell_type": "code",
   "execution_count": 183,
   "id": "c294f29c",
   "metadata": {},
   "outputs": [],
   "source": [
    "xpath1='//*[@id=\"search-filters\"]/ul/li[2]/a'\n",
    "driver.find_element(by=By.XPATH,value=xpath1).click()"
   ]
  },
  {
   "cell_type": "code",
   "execution_count": 17,
   "id": "59c270ab",
   "metadata": {},
   "outputs": [
    {
     "name": "stdout",
     "output_type": "stream",
     "text": [
      "https://www.tripadvisor.com/Search?q=Marrakech&searchSessionId=BF1DDE8DBDDFB630752C121ECAE667DB1667682135323ssid&searchNearby=false&sid=8B76F5ACCBE14EEFB0E5625614E9AA861667682320030&blockRedirect=true&geo=1&ssrc=h&rf=1\n"
     ]
    }
   ],
   "source": [
    "print(driver.current_url)"
   ]
  },
  {
   "cell_type": "markdown",
   "id": "1b791203",
   "metadata": {},
   "source": [
    "# Extraction des liens des hôtes :\n",
    "Parcourir les 6 premières pages, chacune contenant 30 hôtels, afin de recueillir leurs liens et les ajouter à une liste (liens=[]).\n",
    "En utilisant deux chemins XPath : xpath_next pour passer à la page suivante et xpath_link pour localiser l'élément contenant le lien de l'hôtel.\n",
    "Une fois que nous avons localisé la classe, nous utiliserons la méthode get_attribute('onclick') pour extraire le contenu de l'attribut onclick qui contient le lien de l'hôtel.\"\n"
   ]
  },
  {
   "cell_type": "code",
   "execution_count": 6,
   "id": "e112fee4",
   "metadata": {
    "scrolled": true
   },
   "outputs": [
    {
     "name": "stdout",
     "output_type": "stream",
     "text": [
      "0\n",
      "1\n",
      "2\n",
      "3\n",
      "4\n",
      "5\n"
     ]
    }
   ],
   "source": [
    "xpath_next='//*[@id=\"BODY_BLOCK_JQUERY_REFLOW\"]/div[2]/div/div[2]/div/div/div/div/div[1]/div/div[1]/div/div[3]/div/div[2]/div/div/div/a[2]'\n",
    "\n",
    "xpatha_link='//*[contains(@class,\"result-title\")]'\n",
    "\n",
    "links=[]\n",
    "for i in range(6):\n",
    "    time.sleep(2)\n",
    "    print(i)\n",
    "    element1=driver.find_elements(by=By.XPATH,value=xpatha_link)\n",
    "    for element in element1:\n",
    "        tx_lin=element.get_attribute('onclick')\n",
    "        aplit_link1=tx_lin.split(\"widgetEvCall('handlers.openResult', event, this, '\")\n",
    "        aplit_link2=aplit_link1[1].split(\"'\")\n",
    "        line='https://www.tripadvisor.com'+aplit_link2[0]\n",
    "        links.append(line)\n",
    "        \n",
    "\n",
    "    driver.find_element(by=By.XPATH,value=xpath_next).click()\n",
    "    driver.get(driver.current_url)\n",
    "\n",
    "\n"
   ]
  },
  {
   "cell_type": "markdown",
   "id": "897433d1",
   "metadata": {},
   "source": [
    "## save Links in Json file "
   ]
  },
  {
   "cell_type": "code",
   "execution_count": 135,
   "id": "eea80bcd",
   "metadata": {},
   "outputs": [],
   "source": [
    "import json\n",
    "    \n",
    "# Data to be written\n",
    "\n",
    "with open(\"data.json\", \"w\") as outfile:\n",
    "    json.dump(links, outfile)\n",
    "# dat=pd.read_json('links.json')"
   ]
  },
  {
   "cell_type": "markdown",
   "id": "a25ca115",
   "metadata": {},
   "source": [
    "### Declaration des variables contenant les XPATH des different element a scraper"
   ]
  },
  {
   "cell_type": "code",
   "execution_count": 114,
   "id": "4431e029",
   "metadata": {},
   "outputs": [],
   "source": [
    "xp_title='//*[@id=\"HEADING\"]'\n",
    "xp_addre='//*[@id=\"component_3\"]/div/div/div[2]/div/div[2]/div/div[1]/div/span[2]/span'\n",
    "xp_tel=\"//span[@class='zNXea NXOxh NjUDn']\"\n",
    "xp_Room_types='//*[@id=\"ABOUT_TAB\"]/div[2]/div[2]/div[1]/div[8]'\n",
    "xp_Property_amenities='//*[@id=\"ABOUT_TAB\"]/div[2]/div[2]/div[1]/div[2]'\n",
    "xp_Room_features='//*[@id=\"ABOUT_TAB\"]/div[2]/div[2]/div[1]/div[5]'\n",
    "xp_hotel_lang='//*[@id=\"ABOUT_TAB\"]/div[2]/div[2]/div[3]/div[2]/div/div[2]'\n",
    "xp_price='//*[@id=\"component_4\"]/div/div[1]/div[1]/div[1]/div[2]/div/div'\n",
    "xp_nbRevies='//*[@id=\"component_3\"]/div/div/div[1]/div[2]/a/span[2]'\n",
    "xp_rat='//*[@id=\"ABOUT_TAB\"]/div[2]/div[1]/div[1]/span'#mumber of rating len()\n",
    "xp_num=\"//div[@class='cGAqf']/a/span\"\n",
    "rv_next='//*[@id=\"component_16\"]/div/div[3]/div[13]/div/a'\n",
    "xp_pp='//*[@id=\"component_16\"]/div/div[3]'\n",
    "xp_clss='//*[@id=\"component_16\"]/div/div[3]/div[8]/div[2]/div[3]/div[1]/div[1]/q/span'\n",
    "xp_rev='div/div[2]/div[3]/div[1]/div[1]/q/span'\n",
    "pp='//*[@id=\"component_16\"]/div/div[3]/div[13]/div'\n",
    "nn='//*[@id=\"component_16\"]/div/div[3]/div[13]/div/a'\n",
    "xp_next='//*[@id=\"component_16\"]/div/div[3]/div[13]/div/a'"
   ]
  },
  {
   "cell_type": "code",
   "execution_count": 1,
   "id": "f633b753",
   "metadata": {},
   "outputs": [],
   "source": [
    "# ele5=driver.find_elements(by=By.XPATH,value=xp_Room_features)\n",
    "# ll=[]\n",
    "# for i in ele5:\n",
    "#     print(i.text)\n",
    "#     ll.append(i.text)\n",
    "# print(ll[0].split('/'))\n",
    "# print(ll[0].split('\\n'))"
   ]
  },
  {
   "cell_type": "markdown",
   "id": "05342f99",
   "metadata": {},
   "source": [
    "\n",
    "\n",
    "### Dans ce bloc qui suit, nous allons définir les fonctions que nous utiliserons par la suite :\n",
    "\n",
    "    La fonction \"check_exists_by_xpath\" est utilisée pour gérer les exceptions. Parfois, certains éléments peuvent être absents lors du scraping pour certains hôtels. Donc à chaque fois avant de localiser un élément, nous testons son existence pour savoir s'il est présent ou non pour un hôtel donné.\n",
    "\n",
    "    La fonction \"get_element\" a pour but de retourner l'élément à scraper.\n",
    "\n",
    "    La fonction \"rev_links\" permet de récupérer les avis sans cliquer ou de récupérer le lien vers la page suivante des avis (ce qui est plus lourd). Cette méthode prend en paramètre le lien d'un hôtel et sera utilisée pour générer les liens. En effet, on peut remarquer que le passage d'une page à une autre se fait en ajoutant \"or10, or20, or30...\" (or10 correspond à la deuxième page, or20 à la troisième page, etc.).\n",
    "\n",
    "\n",
    "\n",
    "#### https://www.tripadvisor.com/Hotel_Review-g488109-d483821-Reviews-Kasbah_Du_Toubkal-Imlil_Marrakech_Safi.html\n",
    " \n",
    "#### https://www.tripadvisor.com/Hotel_Review-g488109-d483821-Reviews-or10-Kasbah_Du_Toubkal-Imlil_Marrakech......._\n",
    "\n",
    "#### https://www.tripadvisor.com/Hotel_Review-g488109-d483821-Reviews-or20-Kasbah_Du_Toubkal-Imlil_Marrakech......._\n",
    "\n",
    "  "
   ]
  },
  {
   "cell_type": "code",
   "execution_count": 135,
   "id": "4d88f100",
   "metadata": {},
   "outputs": [],
   "source": [
    "from selenium.common.exceptions import NoSuchElementException        \n",
    "def check_exists_by_xpath(xpath):\n",
    "    try:\n",
    "        driver.find_element(by=By.XPATH,value=xpath)\n",
    "    except NoSuchElementException:\n",
    "        return False\n",
    "    return True\n",
    "\n",
    "\n",
    "def get_element(Xpath):\n",
    "        if check_exists_by_xpath(Xpath):\n",
    "             elemene=driver.find_element(by=By.XPATH,value=Xpath).text\n",
    "        else:\n",
    "             elemene=''\n",
    "        return elemene\n",
    "def(Xpath):\n",
    "    if check_exists_by_xpath(Xpath):\n",
    "        li1=[]\n",
    "        elemenets=driver.find_elements(by=By.XPATH,value=Xpath)\n",
    "        for i in elemenets:\n",
    "            li1.append(i.text)\n",
    "        list_elemenets=li1[0].split('/')\n",
    "        list_elemenets=li1[0].split('\\n')\n",
    "    else:\n",
    "        list_elemenets=''\n",
    "    return list_elemenets\n",
    "    \n",
    "def rev_links(link):\n",
    "    link=link.split('Reviews')\n",
    "    li=[]\n",
    "    for j in range(0,410,10):\n",
    "    #         print(j)\n",
    "    \n",
    "        if j==0:\n",
    "\n",
    "            l=link[0]+'Reviews'+link[1]\n",
    "            li.append(l)\n",
    "      \n",
    "        else:\n",
    "            l=link[0]+'Reviews''-or'+str(j)+link[1]\n",
    "    \n",
    "            li.append(l)\n",
    "            \n",
    "    return li\n"
   ]
  },
  {
   "cell_type": "markdown",
   "id": "70bfa2e0",
   "metadata": {},
   "source": [
    "### dict:{} et  lis=[]\n",
    "#### dict:{} ====> on va stocker les information scraper pour chaque hotel (title,...,reviews)\n",
    "#### lis=[]  ====> on va l'ajouter achaque foi l'objet dict \n",
    "#### lis : est une liste qui va contient tout les hotels \n",
    " "
   ]
  },
  {
   "cell_type": "code",
   "execution_count": 2,
   "id": "99d6eed8",
   "metadata": {},
   "outputs": [],
   "source": [
    "liss=[]\n",
    "dict1={}"
   ]
  },
  {
   "cell_type": "code",
   "execution_count": 216,
   "id": "18ff97f5",
   "metadata": {
    "scrolled": false
   },
   "outputs": [],
   "source": [
    "for i in range(0,130):\n",
    "    print('hot=====>',i)\n",
    "    data=[]\n",
    "    \n",
    "    # la list des lien de reviws de l'hotel i\n",
    "    link_revs=rev_links(links[i])\n",
    "    \n",
    "    \n",
    "    driver.get(links[i])\n",
    "#     time.sleep(1)\n",
    "    get_element()\n",
    "    if check_exists_by_xpath(\"//div[@class='cGAqf']/a/span\"):\n",
    "        ele9=driver.find_element(by=By.XPATH,value=\"//div[@class='cGAqf']/a/span\").text\n",
    "    else:\n",
    "        ele9=''\n",
    "    print(ele9)\n",
    "    get_element()\n",
    "    if check_exists_by_xpath(\"//span[@class='zNXea NXOxh NjUDn']\"):\n",
    "        ele2=driver.find_element(By.XPATH, \"//span[@class='zNXea NXOxh NjUDn']\").text\n",
    "    else:\n",
    "        ele2=''\n",
    "    print(ele2) \n",
    "    ele1=get_element(xp_title)\n",
    "\n",
    "    ele3=get_element(xp_addre)\n",
    "    \n",
    "    ele4=get_elements(xp_Property_amenities)\n",
    "    \n",
    "    ele4_1=get_elements(xp_Room_types)\n",
    "\n",
    "    ele5=get_elements(xp_Room_features)\n",
    "\n",
    "    ele6=get_element(xp_price)\n",
    "\n",
    "    ele7=get_element(xp_nbRevies)\n",
    "    \n",
    "    ele8=get_element(xp_rat)\n",
    "\n",
    "    # la list des lien de reviws de l'hotel i\n",
    "    link_revs=rev_links(links[i])\n",
    "    \n",
    "    for j in range(len(link_revs)):\n",
    "        \n",
    "        print('next_revs=======>',j)\n",
    "        rev=[]\n",
    "        driver.get(link_revs[j])\n",
    "        if check_exists_by_xpath(xp_clss):\n",
    "            revs=driver.find_element(by=By.XPATH,value=xp_pp).find_elements(by=By.XPATH,value=xp_rev)\n",
    "            for rv in revs:\n",
    "\n",
    "                revws.append(rv.text)\n",
    "\n",
    "        else:\n",
    "            rev=''        \n",
    "    #  on essayer de prendre les nbReviews sans répétition\n",
    "    revws=list(set(revws))\n",
    "    \n",
    "\n",
    "    dict1={'title':ele1,\n",
    "          'tel':ele2,\n",
    "          'address':ele1,\n",
    "          'style':ele4,\n",
    "          'langue':ele5,\n",
    "          'price':ele6,\n",
    "          'rating':ele8,\n",
    "          'nbReviews':ele7,\n",
    "          'num':ele9,\n",
    "          'reviews':revws\n",
    "         }\n",
    "    \n",
    "    liss.append(dict1)"
   ]
  },
  {
   "cell_type": "markdown",
   "id": "4503600f",
   "metadata": {},
   "source": [
    "# 2.PROPRIETES AND PREPOCESSING OF DATA"
   ]
  },
  {
   "cell_type": "markdown",
   "id": "a7ad6546",
   "metadata": {},
   "source": [
    "## stocker le data en fichier json"
   ]
  },
  {
   "cell_type": "code",
   "execution_count": 2,
   "id": "583f4e8a",
   "metadata": {
    "scrolled": true
   },
   "outputs": [],
   "source": [
    "import json\n",
    "    \n",
    "# Data to be written\n",
    "\n",
    "with open(\"data_v2.json\", \"w\") as outfile:\n",
    "    json.dump(liss, outfile)"
   ]
  },
  {
   "cell_type": "code",
   "execution_count": 3,
   "id": "f2cbb48f",
   "metadata": {},
   "outputs": [],
   "source": [
    "import pandas as pd \n",
    "\n",
    "data=pd.read_json('data_v2.json')\n"
   ]
  },
  {
   "cell_type": "code",
   "execution_count": 535,
   "id": "ac6915cb",
   "metadata": {},
   "outputs": [
    {
     "name": "stdout",
     "output_type": "stream",
     "text": [
      "<class 'pandas.core.frame.DataFrame'>\n",
      "RangeIndex: 122 entries, 0 to 121\n",
      "Data columns (total 10 columns):\n",
      " #   Column     Non-Null Count  Dtype  \n",
      "---  ------     --------------  -----  \n",
      " 0   title      122 non-null    object \n",
      " 1   tel        122 non-null    object \n",
      " 2   address    122 non-null    object \n",
      " 3   style      122 non-null    object \n",
      " 4   langue     122 non-null    object \n",
      " 5   price      122 non-null    object \n",
      " 6   rating     122 non-null    float64\n",
      " 7   nbReviews  122 non-null    object \n",
      " 8   num        122 non-null    object \n",
      " 9   reviews    122 non-null    object \n",
      "dtypes: float64(1), object(9)\n",
      "memory usage: 9.7+ KB\n"
     ]
    }
   ],
   "source": [
    "data.info()"
   ]
  },
  {
   "cell_type": "code",
   "execution_count": null,
   "id": "0acd3d83",
   "metadata": {},
   "outputs": [],
   "source": [
    "# notre data contient 122 hotels"
   ]
  },
  {
   "cell_type": "code",
   "execution_count": 250,
   "id": "ad2e5a05",
   "metadata": {},
   "outputs": [],
   "source": [
    "\n",
    "dat1=[]\n",
    "for i in range(129):\n",
    "    \n",
    "    dat1.append(len(data['reviews'][i]))\n",
    "dt=pd.DataFrame(dat1,columns=['Numbers'])\n",
    "    \n",
    "    "
   ]
  },
  {
   "cell_type": "markdown",
   "id": "62b05eca",
   "metadata": {},
   "source": [
    "### les reviews "
   ]
  },
  {
   "cell_type": "code",
   "execution_count": 251,
   "id": "b85940df",
   "metadata": {},
   "outputs": [
    {
     "data": {
      "text/html": [
       "<div>\n",
       "<style scoped>\n",
       "    .dataframe tbody tr th:only-of-type {\n",
       "        vertical-align: middle;\n",
       "    }\n",
       "\n",
       "    .dataframe tbody tr th {\n",
       "        vertical-align: top;\n",
       "    }\n",
       "\n",
       "    .dataframe thead th {\n",
       "        text-align: right;\n",
       "    }\n",
       "</style>\n",
       "<table border=\"1\" class=\"dataframe\">\n",
       "  <thead>\n",
       "    <tr style=\"text-align: right;\">\n",
       "      <th></th>\n",
       "      <th>Numbers</th>\n",
       "    </tr>\n",
       "  </thead>\n",
       "  <tbody>\n",
       "    <tr>\n",
       "      <th>count</th>\n",
       "      <td>129.000000</td>\n",
       "    </tr>\n",
       "    <tr>\n",
       "      <th>mean</th>\n",
       "      <td>255.186047</td>\n",
       "    </tr>\n",
       "    <tr>\n",
       "      <th>std</th>\n",
       "      <td>63.943184</td>\n",
       "    </tr>\n",
       "    <tr>\n",
       "      <th>min</th>\n",
       "      <td>55.000000</td>\n",
       "    </tr>\n",
       "    <tr>\n",
       "      <th>25%</th>\n",
       "      <td>212.000000</td>\n",
       "    </tr>\n",
       "    <tr>\n",
       "      <th>50%</th>\n",
       "      <td>272.000000</td>\n",
       "    </tr>\n",
       "    <tr>\n",
       "      <th>75%</th>\n",
       "      <td>304.000000</td>\n",
       "    </tr>\n",
       "    <tr>\n",
       "      <th>max</th>\n",
       "      <td>369.000000</td>\n",
       "    </tr>\n",
       "  </tbody>\n",
       "</table>\n",
       "</div>"
      ],
      "text/plain": [
       "          Numbers\n",
       "count  129.000000\n",
       "mean   255.186047\n",
       "std     63.943184\n",
       "min     55.000000\n",
       "25%    212.000000\n",
       "50%    272.000000\n",
       "75%    304.000000\n",
       "max    369.000000"
      ]
     },
     "execution_count": 251,
     "metadata": {},
     "output_type": "execute_result"
    }
   ],
   "source": [
    "dt.describe()"
   ]
  },
  {
   "cell_type": "markdown",
   "id": "7075d9c1",
   "metadata": {},
   "source": [
    "## Rating"
   ]
  },
  {
   "cell_type": "code",
   "execution_count": 237,
   "id": "c1093836",
   "metadata": {},
   "outputs": [
    {
     "data": {
      "text/plain": [
       "count    129.000000\n",
       "mean       4.740310\n",
       "std        0.395782\n",
       "min        3.000000\n",
       "25%        4.500000\n",
       "50%        5.000000\n",
       "75%        5.000000\n",
       "max        5.000000\n",
       "Name: rating, dtype: float64"
      ]
     },
     "execution_count": 237,
     "metadata": {},
     "output_type": "execute_result"
    }
   ],
   "source": [
    "# for i in range(129)\n",
    "data['rating'].describe()"
   ]
  },
  {
   "cell_type": "code",
   "execution_count": 222,
   "id": "882fea81",
   "metadata": {},
   "outputs": [
    {
     "data": {
      "text/plain": [
       "count                  129\n",
       "unique                 129\n",
       "top       Riad Kheirredine\n",
       "freq                     1\n",
       "Name: title, dtype: object"
      ]
     },
     "execution_count": 222,
     "metadata": {},
     "output_type": "execute_result"
    }
   ],
   "source": [
    "data['title'].describe()"
   ]
  },
  {
   "cell_type": "markdown",
   "id": "e19da687",
   "metadata": {},
   "source": [
    "### Se basent sur le titre pour s'assurer que on a pas des doublant au nivaux des hotels"
   ]
  },
  {
   "cell_type": "code",
   "execution_count": 215,
   "id": "e3fd1366",
   "metadata": {},
   "outputs": [],
   "source": [
    "nbR=[]\n",
    "\n",
    "for i in range(129):\n",
    "    nbR.append(len(liss[i]['reviews']))\n"
   ]
  },
  {
   "cell_type": "code",
   "execution_count": 214,
   "id": "c504650d",
   "metadata": {},
   "outputs": [
    {
     "data": {
      "image/png": "[encoded data removed]",
      "text/plain": [
       "<Figure size 1152x432 with 1 Axes>"
      ]
     },
     "metadata": {
      "needs_background": "light"
     },
     "output_type": "display_data"
    }
   ],
   "source": [
    "from matplotlib.pyplot import figure\n",
    "\n",
    "# figure(, dpi=80)\n",
    "import numpy as np\n",
    "import matplotlib.pyplot as plt\n",
    "# ind=[]\n",
    "fig = plt.figure(figsize=(16, 6))\n",
    "# [ind.append(i) for i in range(len(nbR)) ]\n",
    "# ind\n",
    "plt.bar(ind,nbR,color ='maroon')\n",
    " \n",
    "plt.show()"
   ]
  },
  {
   "cell_type": "markdown",
   "id": "d4cf7ecd",
   "metadata": {},
   "source": [
    "Le graphique en barres montre le nombre de reviews par hôtel. On peut clairement constater que la majorité des hôtels ont dépassé les 160 critiques par hôtel."
   ]
  },
  {
   "cell_type": "code",
   "execution_count": 236,
   "id": "a9d93951",
   "metadata": {},
   "outputs": [
    {
     "data": {
      "text/plain": [
       "121"
      ]
     },
     "execution_count": 236,
     "metadata": {},
     "output_type": "execute_result"
    }
   ],
   "source": [
    "count=0\n",
    "for i in range(129):\n",
    "    if len(liss[i]['reviews'])>160:\n",
    "        count+=1\n",
    "count   "
   ]
  },
  {
   "cell_type": "markdown",
   "id": "7703f0e5",
   "metadata": {},
   "source": [
    " ## 121 ont plus de 160 reviews \n",
    "##### Dans la partie suivant on va essayer de perndre les hotels qui ayant plus 160 et pour les hotels qui depasse 200 ova se limite sur 200 les premier reviews  "
   ]
  },
  {
   "cell_type": "code",
   "execution_count": 273,
   "id": "56d45517",
   "metadata": {},
   "outputs": [
    {
     "name": "stdout",
     "output_type": "stream",
     "text": [
      "pour ce hotel le nbr de reviews est inf  a 160\n",
      "pour ce hotel le nbr de reviews est inf  a 160\n",
      "pour ce hotel le nbr de reviews est inf  a 160\n",
      "pour ce hotel le nbr de reviews est inf  a 160\n",
      "pour ce hotel le nbr de reviews est inf  a 160\n",
      "pour ce hotel le nbr de reviews est inf  a 160\n",
      "pour ce hotel le nbr de reviews est inf  a 160\n"
     ]
    }
   ],
   "source": [
    "final_list=[]\n",
    "\n",
    "for i in range(129):\n",
    "#     print(i)\n",
    "    if len(liss[i]['reviews'])>=160 and len(liss[i]['reviews'])<=200:\n",
    "        final_list.append(liss[i])\n",
    "    elif len(liss[i]['reviews'])>=160 and len(liss[i]['reviews'])>200:\n",
    "            c=liss[i]['reviews'][:200]\n",
    "            aa=liss[i]\n",
    "            aa['reviews']=c\n",
    "            final_list.append(aa)\n",
    "            \n",
    "    else:\n",
    "        print('pour ce hotel le nbr de reviews est inf  a 160')\n"
   ]
  },
  {
   "cell_type": "code",
   "execution_count": 277,
   "id": "c98486a4",
   "metadata": {},
   "outputs": [],
   "source": [
    "# final_list\n",
    "nbR1=[]\n",
    "n=len(final_list)\n",
    "for i in range(n):\n",
    "    nbR1.append(len(final_list[i]['reviews']))\n"
   ]
  },
  {
   "cell_type": "markdown",
   "id": "590a82e6",
   "metadata": {},
   "source": [
    "### Nombre de reviews "
   ]
  },
  {
   "cell_type": "code",
   "execution_count": 280,
   "id": "2e5c8f23",
   "metadata": {},
   "outputs": [
    {
     "data": {
      "image/png": "[encoded data removed]",
      "text/plain": [
       "<Figure size 1152x432 with 1 Axes>"
      ]
     },
     "metadata": {
      "needs_background": "light"
     },
     "output_type": "display_data"
    }
   ],
   "source": [
    "from matplotlib.pyplot import figure\n",
    "\n",
    "# figure(, dpi=80)\n",
    "import numpy as np\n",
    "import matplotlib.pyplot as plt\n",
    "ind=[]\n",
    "fig = plt.figure(figsize=(16, 6))\n",
    "[ind.append(i) for i in range(len(nbR1)) ]\n",
    "ind\n",
    "plt.bar(ind,nbR1)\n",
    " \n",
    "plt.show()"
   ]
  },
  {
   "cell_type": "code",
   "execution_count": null,
   "id": "a8696a22",
   "metadata": {},
   "outputs": [],
   "source": [
    "import json\n",
    "    \n",
    "# Data to be written\n",
    "\n",
    "with open(\"data_final_vr.json\", \"w\") as outfile:\n",
    "    json.dump(final_list, outfile)\n",
    "# dat=pd.read_json('links.json')"
   ]
  },
  {
   "cell_type": "code",
   "execution_count": 321,
   "id": "30b7cbc6",
   "metadata": {},
   "outputs": [],
   "source": [
    "import pandas as pd \n",
    "\n",
    "data=pd.read_json('data_final_vr.json')\n"
   ]
  },
  {
   "cell_type": "code",
   "execution_count": 322,
   "id": "2f8c7929",
   "metadata": {},
   "outputs": [
    {
     "data": {
      "text/html": [
       "<div>\n",
       "<style scoped>\n",
       "    .dataframe tbody tr th:only-of-type {\n",
       "        vertical-align: middle;\n",
       "    }\n",
       "\n",
       "    .dataframe tbody tr th {\n",
       "        vertical-align: top;\n",
       "    }\n",
       "\n",
       "    .dataframe thead th {\n",
       "        text-align: right;\n",
       "    }\n",
       "</style>\n",
       "<table border=\"1\" class=\"dataframe\">\n",
       "  <thead>\n",
       "    <tr style=\"text-align: right;\">\n",
       "      <th></th>\n",
       "      <th>title</th>\n",
       "      <th>tel</th>\n",
       "      <th>address</th>\n",
       "      <th>style</th>\n",
       "      <th>langue</th>\n",
       "      <th>price</th>\n",
       "      <th>rating</th>\n",
       "      <th>nbReviews</th>\n",
       "      <th>num</th>\n",
       "      <th>reviews</th>\n",
       "    </tr>\n",
       "  </thead>\n",
       "  <tbody>\n",
       "    <tr>\n",
       "      <th>0</th>\n",
       "      <td>Riad Kheirredine</td>\n",
       "      <td></td>\n",
       "      <td>Riad Kheirredine</td>\n",
       "      <td>[Free High Speed Internet (WiFi), Pool, Free b...</td>\n",
       "      <td>[Allergy-free room, Soundproof rooms, Air cond...</td>\n",
       "      <td></td>\n",
       "      <td>5.0</td>\n",
       "      <td>2,801 reviews</td>\n",
       "      <td></td>\n",
       "      <td>[Luxurious accommodation in walking distance t...</td>\n",
       "    </tr>\n",
       "    <tr>\n",
       "      <th>1</th>\n",
       "      <td>La Maison Arabe</td>\n",
       "      <td></td>\n",
       "      <td>La Maison Arabe</td>\n",
       "      <td>[Paid private parking nearby, Free High Speed ...</td>\n",
       "      <td>[Blackout curtains, Bathrobes, Air conditionin...</td>\n",
       "      <td></td>\n",
       "      <td>5.0</td>\n",
       "      <td>3,208 reviews</td>\n",
       "      <td></td>\n",
       "      <td>[We phoned to book but they then couldn’t find...</td>\n",
       "    </tr>\n",
       "    <tr>\n",
       "      <th>2</th>\n",
       "      <td>Riad Dar Anika</td>\n",
       "      <td></td>\n",
       "      <td>Riad Dar Anika</td>\n",
       "      <td>[Paid private parking nearby, Free High Speed ...</td>\n",
       "      <td>[Allergy-free room, Bathrobes, Air conditionin...</td>\n",
       "      <td></td>\n",
       "      <td>5.0</td>\n",
       "      <td>2,005 reviews</td>\n",
       "      <td></td>\n",
       "      <td>[Excellent service. Antonio and his staff is t...</td>\n",
       "    </tr>\n",
       "    <tr>\n",
       "      <th>3</th>\n",
       "      <td>Riad Kniza</td>\n",
       "      <td></td>\n",
       "      <td>Riad Kniza</td>\n",
       "      <td>[Free High Speed Internet (WiFi), Pool, Sauna,...</td>\n",
       "      <td>[Bathrobes, Air conditioning, Housekeeping, Ro...</td>\n",
       "      <td></td>\n",
       "      <td>5.0</td>\n",
       "      <td>1,882 reviews</td>\n",
       "      <td></td>\n",
       "      <td>[We had a wonderful stay at Riad Kniza. The st...</td>\n",
       "    </tr>\n",
       "    <tr>\n",
       "      <th>4</th>\n",
       "      <td>Sofitel Marrakech Lounge &amp; Spa Hotel</td>\n",
       "      <td></td>\n",
       "      <td>Sofitel Marrakech Lounge &amp; Spa Hotel</td>\n",
       "      <td>[Valet parking, Free High Speed Internet (WiFi...</td>\n",
       "      <td>[Blackout curtains, Soundproof rooms, Air cond...</td>\n",
       "      <td>MAD 3,441</td>\n",
       "      <td>4.5</td>\n",
       "      <td>4,814 reviews</td>\n",
       "      <td></td>\n",
       "      <td>[I will start with the breakfast. The food is ...</td>\n",
       "    </tr>\n",
       "    <tr>\n",
       "      <th>...</th>\n",
       "      <td>...</td>\n",
       "      <td>...</td>\n",
       "      <td>...</td>\n",
       "      <td>...</td>\n",
       "      <td>...</td>\n",
       "      <td>...</td>\n",
       "      <td>...</td>\n",
       "      <td>...</td>\n",
       "      <td>...</td>\n",
       "      <td>...</td>\n",
       "    </tr>\n",
       "    <tr>\n",
       "      <th>117</th>\n",
       "      <td>Riad Shaden</td>\n",
       "      <td></td>\n",
       "      <td>Riad Shaden</td>\n",
       "      <td>[Paid private parking nearby, Free High Speed ...</td>\n",
       "      <td>[Air conditioning, Housekeeping, Safe, Private...</td>\n",
       "      <td>MAD 538</td>\n",
       "      <td>5.0</td>\n",
       "      <td>332 reviews</td>\n",
       "      <td></td>\n",
       "      <td>[We have spent our 9th stay with the team at R...</td>\n",
       "    </tr>\n",
       "    <tr>\n",
       "      <th>118</th>\n",
       "      <td>Moroccan House Hotel</td>\n",
       "      <td></td>\n",
       "      <td>Moroccan House Hotel</td>\n",
       "      <td>[Paid private parking nearby, Free High Speed ...</td>\n",
       "      <td>[Air conditioning, Safe]</td>\n",
       "      <td>MAD 373</td>\n",
       "      <td>3.5</td>\n",
       "      <td>672 reviews</td>\n",
       "      <td></td>\n",
       "      <td>[Got back last night from a week in Marrakech ...</td>\n",
       "    </tr>\n",
       "    <tr>\n",
       "      <th>119</th>\n",
       "      <td>Palais Sebban</td>\n",
       "      <td></td>\n",
       "      <td>Palais Sebban</td>\n",
       "      <td>[Free High Speed Internet (WiFi), Pool, Free b...</td>\n",
       "      <td>[Air conditioning, Private balcony, Room servi...</td>\n",
       "      <td></td>\n",
       "      <td>4.5</td>\n",
       "      <td>858 reviews</td>\n",
       "      <td></td>\n",
       "      <td>[Myself and husband had a 2 night stay, we wer...</td>\n",
       "    </tr>\n",
       "    <tr>\n",
       "      <th>120</th>\n",
       "      <td>Riad Romance</td>\n",
       "      <td></td>\n",
       "      <td>Riad Romance</td>\n",
       "      <td>[Free High Speed Internet (WiFi), Pool, Free b...</td>\n",
       "      <td>[Air conditioning, Room service, Safe]</td>\n",
       "      <td></td>\n",
       "      <td>5.0</td>\n",
       "      <td>396 reviews</td>\n",
       "      <td></td>\n",
       "      <td>[, It was our first time visiting Marrakesh an...</td>\n",
       "    </tr>\n",
       "    <tr>\n",
       "      <th>121</th>\n",
       "      <td>Kasbah Du Toubkal</td>\n",
       "      <td></td>\n",
       "      <td>Kasbah Du Toubkal</td>\n",
       "      <td>[Public wifi, Free breakfast, Restaurant, Hiki...</td>\n",
       "      <td>[Private balcony]</td>\n",
       "      <td></td>\n",
       "      <td>4.5</td>\n",
       "      <td>776 reviews</td>\n",
       "      <td></td>\n",
       "      <td>[, This is one of the most beautiful places i ...</td>\n",
       "    </tr>\n",
       "  </tbody>\n",
       "</table>\n",
       "<p>122 rows × 10 columns</p>\n",
       "</div>"
      ],
      "text/plain": [
       "                                    title tel  \\\n",
       "0                        Riad Kheirredine       \n",
       "1                         La Maison Arabe       \n",
       "2                          Riad Dar Anika       \n",
       "3                              Riad Kniza       \n",
       "4    Sofitel Marrakech Lounge & Spa Hotel       \n",
       "..                                    ...  ..   \n",
       "117                           Riad Shaden       \n",
       "118                  Moroccan House Hotel       \n",
       "119                         Palais Sebban       \n",
       "120                          Riad Romance       \n",
       "121                     Kasbah Du Toubkal       \n",
       "\n",
       "                                  address  \\\n",
       "0                        Riad Kheirredine   \n",
       "1                         La Maison Arabe   \n",
       "2                          Riad Dar Anika   \n",
       "3                              Riad Kniza   \n",
       "4    Sofitel Marrakech Lounge & Spa Hotel   \n",
       "..                                    ...   \n",
       "117                           Riad Shaden   \n",
       "118                  Moroccan House Hotel   \n",
       "119                         Palais Sebban   \n",
       "120                          Riad Romance   \n",
       "121                     Kasbah Du Toubkal   \n",
       "\n",
       "                                                 style  \\\n",
       "0    [Free High Speed Internet (WiFi), Pool, Free b...   \n",
       "1    [Paid private parking nearby, Free High Speed ...   \n",
       "2    [Paid private parking nearby, Free High Speed ...   \n",
       "3    [Free High Speed Internet (WiFi), Pool, Sauna,...   \n",
       "4    [Valet parking, Free High Speed Internet (WiFi...   \n",
       "..                                                 ...   \n",
       "117  [Paid private parking nearby, Free High Speed ...   \n",
       "118  [Paid private parking nearby, Free High Speed ...   \n",
       "119  [Free High Speed Internet (WiFi), Pool, Free b...   \n",
       "120  [Free High Speed Internet (WiFi), Pool, Free b...   \n",
       "121  [Public wifi, Free breakfast, Restaurant, Hiki...   \n",
       "\n",
       "                                                langue      price  rating  \\\n",
       "0    [Allergy-free room, Soundproof rooms, Air cond...                5.0   \n",
       "1    [Blackout curtains, Bathrobes, Air conditionin...                5.0   \n",
       "2    [Allergy-free room, Bathrobes, Air conditionin...                5.0   \n",
       "3    [Bathrobes, Air conditioning, Housekeeping, Ro...                5.0   \n",
       "4    [Blackout curtains, Soundproof rooms, Air cond...  MAD 3,441     4.5   \n",
       "..                                                 ...        ...     ...   \n",
       "117  [Air conditioning, Housekeeping, Safe, Private...    MAD 538     5.0   \n",
       "118                           [Air conditioning, Safe]    MAD 373     3.5   \n",
       "119  [Air conditioning, Private balcony, Room servi...                4.5   \n",
       "120             [Air conditioning, Room service, Safe]                5.0   \n",
       "121                                  [Private balcony]                4.5   \n",
       "\n",
       "         nbReviews num                                            reviews  \n",
       "0    2,801 reviews      [Luxurious accommodation in walking distance t...  \n",
       "1    3,208 reviews      [We phoned to book but they then couldn’t find...  \n",
       "2    2,005 reviews      [Excellent service. Antonio and his staff is t...  \n",
       "3    1,882 reviews      [We had a wonderful stay at Riad Kniza. The st...  \n",
       "4    4,814 reviews      [I will start with the breakfast. The food is ...  \n",
       "..             ...  ..                                                ...  \n",
       "117    332 reviews      [We have spent our 9th stay with the team at R...  \n",
       "118    672 reviews      [Got back last night from a week in Marrakech ...  \n",
       "119    858 reviews      [Myself and husband had a 2 night stay, we wer...  \n",
       "120    396 reviews      [, It was our first time visiting Marrakesh an...  \n",
       "121    776 reviews      [, This is one of the most beautiful places i ...  \n",
       "\n",
       "[122 rows x 10 columns]"
      ]
     },
     "execution_count": 322,
     "metadata": {},
     "output_type": "execute_result"
    }
   ],
   "source": [
    "data"
   ]
  },
  {
   "cell_type": "code",
   "execution_count": null,
   "id": "57e4771f",
   "metadata": {},
   "outputs": [],
   "source": [
    "import matplotlib.pyplot as plt"
   ]
  },
  {
   "cell_type": "code",
   "execution_count": 724,
   "id": "7e9866ef",
   "metadata": {},
   "outputs": [
    {
     "data": {
      "image/png": "[encoded data removed]",
      "text/plain": [
       "<Figure size 1152x576 with 1 Axes>"
      ]
     },
     "metadata": {
      "needs_background": "light"
     },
     "output_type": "display_data"
    }
   ],
   "source": [
    "SIZE=20\n",
    "plt.hist(data[data.rating ==5].rating,\n",
    "         bins=2, color='green', label='MORE THAN 4 STARS')\n",
    "\n",
    "plt.hist(data[data.rating <=4].rating,\n",
    "         bins=2, color='blue', label='less THAN 4 STARS')\n",
    "\n",
    "\n",
    "plt.hist(data[data.rating ==3].rating,\n",
    "         bins=2, color='red', label='3 STARS')\n",
    "\n",
    "plt.title('rating  distribution in the  data')\n",
    "\n",
    "plt.show()"
   ]
  },
  {
   "cell_type": "raw",
   "id": "dad76c13",
   "metadata": {},
   "source": [
    "sur cette data plus de 70 % de la data est de 5 stars"
   ]
  },
  {
   "cell_type": "markdown",
   "id": "1fcdc8a7",
   "metadata": {},
   "source": [
    "# 3-LOAD DATA TO POSTGRES DATA BASE"
   ]
  },
  {
   "cell_type": "code",
   "execution_count": null,
   "id": "ece6e9ee",
   "metadata": {},
   "outputs": [],
   "source": [
    "2. load data to postgres data base \n",
    "pour cela on va utiliser la bib psycopg2 afin de se connecter a la base de donnees\n",
    "\n",
    "# Pui on va instancier an objet du cursor qui va permettre la comminucation avec notre base \n",
    "# par l'execution des requete"
   ]
  },
  {
   "cell_type": "code",
   "execution_count": 4,
   "id": "533f667f",
   "metadata": {},
   "outputs": [],
   "source": [
    "import psycopg2"
   ]
  },
  {
   "cell_type": "code",
   "execution_count": 686,
   "id": "d7255873",
   "metadata": {},
   "outputs": [],
   "source": [
    "# Connecter a   PostgreSQL \n",
    "conn = psycopg2.connect(host=\"localhost\", port=\"5432\", dbname=\"hotels\", user=\"postgres\", password=\"pass1234\")\n",
    "\n",
    "# creation de l'objet cursor \n",
    "cur = conn.cursor()\n"
   ]
  },
  {
   "cell_type": "markdown",
   "id": "58d1fd8d",
   "metadata": {},
   "source": [
    "### apre que nous avons écrit notre base de donnees, on va effectuer des requet d'insertion "
   ]
  },
  {
   "attachments": {
    "Screenshot%20from%202022-11-12%2023-45-44.png": {
     "image/png": "[encoded data removed]"
    }
   },
   "cell_type": "markdown",
   "id": "f95aaca9",
   "metadata": {},
   "source": [
    "![Screenshot%20from%202022-11-12%2023-45-44.png](attachment:Screenshot%20from%202022-11-12%2023-45-44.png)"
   ]
  },
  {
   "cell_type": "code",
   "execution_count": null,
   "id": "d1db12db",
   "metadata": {},
   "outputs": [],
   "source": [
    "\n",
    "sql_insert_query = \"\"\"INSERT INTO marrakech_hotels (title,telephone,style,langues,price,rating,nbreviews,ord_num,reviews) VALUES (%s,%s,%s,%s,%s,%s,%s,%s,%s)\"\"\"\n",
    "for i in range(len(data)):\n",
    "    values=(data['title'][i],data['tel'][i],data['style'][i],data['langue'][i],data['price'][0],data['rating'][i],data['nbReviews'][i],data['num'][i],data['reviews'][i])\n",
    "    cur.execute(sql_insert_query, values)\n",
    "    conn.commit()# save des requete executee"
   ]
  },
  {
   "cell_type": "code",
   "execution_count": 688,
   "id": "d85128db",
   "metadata": {},
   "outputs": [],
   "source": [
    "cur.execute(\"SELECT * FROM marrakech_hotels\")\n",
    "\n",
    "# records = cur.fetchall()\n",
    "records = cur.fetchone()\n",
    "# print(records)\n",
    "# cur.close()\n",
    "# conn.close()"
   ]
  },
  {
   "cell_type": "code",
   "execution_count": 699,
   "id": "f596e106",
   "metadata": {},
   "outputs": [
    {
     "data": {
      "text/plain": [
       "'Riad Kheirredine'"
      ]
     },
     "execution_count": 699,
     "metadata": {},
     "output_type": "execute_result"
    }
   ],
   "source": [
    "# print(records)\n",
    "\n",
    "#name of the hotel \n",
    "records[1]"
   ]
  },
  {
   "cell_type": "code",
   "execution_count": 735,
   "id": "9c02e129",
   "metadata": {},
   "outputs": [
    {
     "data": {
      "text/html": [
       "<div>\n",
       "<style scoped>\n",
       "    .dataframe tbody tr th:only-of-type {\n",
       "        vertical-align: middle;\n",
       "    }\n",
       "\n",
       "    .dataframe tbody tr th {\n",
       "        vertical-align: top;\n",
       "    }\n",
       "\n",
       "    .dataframe thead th {\n",
       "        text-align: right;\n",
       "    }\n",
       "</style>\n",
       "<table border=\"1\" class=\"dataframe\">\n",
       "  <thead>\n",
       "    <tr style=\"text-align: right;\">\n",
       "      <th></th>\n",
       "      <th>title</th>\n",
       "      <th>tel</th>\n",
       "      <th>address</th>\n",
       "      <th>style</th>\n",
       "      <th>langue</th>\n",
       "      <th>price</th>\n",
       "      <th>rating</th>\n",
       "      <th>nbReviews</th>\n",
       "      <th>num</th>\n",
       "      <th>reviews</th>\n",
       "    </tr>\n",
       "  </thead>\n",
       "  <tbody>\n",
       "    <tr>\n",
       "      <th>0</th>\n",
       "      <td>Riad Kheirredine</td>\n",
       "      <td></td>\n",
       "      <td>Riad Kheirredine</td>\n",
       "      <td>[Free High Speed Internet (WiFi), Pool, Free b...</td>\n",
       "      <td>[Allergy-free room, Soundproof rooms, Air cond...</td>\n",
       "      <td></td>\n",
       "      <td>5.0</td>\n",
       "      <td>2,801 reviews</td>\n",
       "      <td></td>\n",
       "      <td>[Luxurious accommodation in walking distance t...</td>\n",
       "    </tr>\n",
       "    <tr>\n",
       "      <th>1</th>\n",
       "      <td>La Maison Arabe</td>\n",
       "      <td></td>\n",
       "      <td>La Maison Arabe</td>\n",
       "      <td>[Paid private parking nearby, Free High Speed ...</td>\n",
       "      <td>[Blackout curtains, Bathrobes, Air conditionin...</td>\n",
       "      <td></td>\n",
       "      <td>5.0</td>\n",
       "      <td>3,208 reviews</td>\n",
       "      <td></td>\n",
       "      <td>[We phoned to book but they then couldn’t find...</td>\n",
       "    </tr>\n",
       "  </tbody>\n",
       "</table>\n",
       "</div>"
      ],
      "text/plain": [
       "              title tel           address  \\\n",
       "0  Riad Kheirredine      Riad Kheirredine   \n",
       "1   La Maison Arabe       La Maison Arabe   \n",
       "\n",
       "                                               style  \\\n",
       "0  [Free High Speed Internet (WiFi), Pool, Free b...   \n",
       "1  [Paid private parking nearby, Free High Speed ...   \n",
       "\n",
       "                                              langue price  rating  \\\n",
       "0  [Allergy-free room, Soundproof rooms, Air cond...           5.0   \n",
       "1  [Blackout curtains, Bathrobes, Air conditionin...           5.0   \n",
       "\n",
       "       nbReviews num                                            reviews  \n",
       "0  2,801 reviews      [Luxurious accommodation in walking distance t...  \n",
       "1  3,208 reviews      [We phoned to book but they then couldn’t find...  "
      ]
     },
     "execution_count": 735,
     "metadata": {},
     "output_type": "execute_result"
    }
   ],
   "source": [
    "data.head(2)"
   ]
  },
  {
   "cell_type": "code",
   "execution_count": 1,
   "id": "4cbfa357",
   "metadata": {
    "scrolled": true
   },
   "outputs": [
    {
     "name": "stdout",
     "output_type": "stream",
     "text": [
      "Requirement already satisfied: pandoc in /home/hennani/anaconda3/lib/python3.9/site-packages (2.2)\n",
      "Requirement already satisfied: plumbum in /home/hennani/anaconda3/lib/python3.9/site-packages (from pandoc) (1.8.0)\n",
      "Requirement already satisfied: ply in /home/hennani/anaconda3/lib/python3.9/site-packages (from pandoc) (3.11)\n",
      "Note: you may need to restart the kernel to use updated packages.\n"
     ]
    }
   ],
   "source": [
    "pip install pandoc"
   ]
  },
  {
   "cell_type": "code",
   "execution_count": null,
   "id": "bca5c08d",
   "metadata": {},
   "outputs": [],
   "source": []
  },
  {
   "cell_type": "code",
   "execution_count": null,
   "id": "f43b624a",
   "metadata": {},
   "outputs": [],
   "source": []
  }
 ],
 "metadata": {
  "kernelspec": {
   "display_name": "Python 3 (ipykernel)",
   "language": "python",
   "name": "python3"
  },
  "language_info": {
   "codemirror_mode": {
    "name": "ipython",
    "version": 3
   },
   "file_extension": ".py",
   "mimetype": "text/x-python",
   "name": "python",
   "nbconvert_exporter": "python",
   "pygments_lexer": "ipython3",
   "version": "3.9.12"
  }
 },
 "nbformat": 4,
 "nbformat_minor": 5
}
